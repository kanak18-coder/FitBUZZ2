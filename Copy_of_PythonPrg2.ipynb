{
  "nbformat": 4,
  "nbformat_minor": 0,
  "metadata": {
    "colab": {
      "name": "Copy of PythonPrg2.ipynb",
      "provenance": [],
      "collapsed_sections": [],
      "include_colab_link": true
    },
    "kernelspec": {
      "name": "python3",
      "display_name": "Python 3"
    },
    "language_info": {
      "name": "python"
    }
  },
  "cells": [
    {
      "cell_type": "markdown",
      "metadata": {
        "id": "view-in-github",
        "colab_type": "text"
      },
      "source": [
        "<a href=\"https://colab.research.google.com/github/kanak18-coder/FitBUZZ2/blob/master/Copy_of_PythonPrg2.ipynb\" target=\"_parent\"><img src=\"https://colab.research.google.com/assets/colab-badge.svg\" alt=\"Open In Colab\"/></a>"
      ]
    },
    {
      "cell_type": "markdown",
      "metadata": {
        "id": "-ATTCe5cZUrq"
      },
      "source": [
        "**Reverse a list without using reverse() function**\n",
        "\n",
        "Example:\n",
        "\n",
        "INPUT: [1, 2, 3, 4, 5]\n",
        "\n",
        "OUTPUT: [5, 4, 3, 2, 1]\n",
        "\n"
      ]
    },
    {
      "cell_type": "code",
      "metadata": {
        "id": "x7MC0jRNaq6w",
        "colab": {
          "base_uri": "https://localhost:8080/"
        },
        "outputId": "c6934e4f-64df-4d3a-ec98-07947dc3d22e"
      },
      "source": [
        "list1 = [1, 2, 3, 4, 5]\n",
        "L = len(list1)\n",
        "\n",
        "for i in range(int(L / 2)):\n",
        "    n = list1[i]\n",
        "    list1[i] = list1[L - i - 1]\n",
        "    list1[L - i - 1] = n\n",
        "\n",
        "print(list1)\n",
        "\n",
        "\n",
        "numbers = [0, 1, 2, 3, 4, 5, 6, 7, 8, 9]\n",
        " \n",
        "# Function takes a list as input\n",
        "def Reverse(numbers):\n",
        "      # Base case when the list is only one item\n",
        "      if (len(numbers)==1):\n",
        "         return numbers\n",
        "      # Otherwise\n",
        "      return Reverse(numbers[1:]) + numbers[0:1]\n",
        " \n",
        "# Test function\n",
        "print(Reverse(numbers))"
      ],
      "execution_count": null,
      "outputs": [
        {
          "output_type": "stream",
          "name": "stdout",
          "text": [
            "[5, 4, 3, 2, 1]\n",
            "[9, 8, 7, 6, 5, 4, 3, 2, 1, 0]\n"
          ]
        }
      ]
    }
  ]
}