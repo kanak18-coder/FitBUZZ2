{
  "nbformat": 4,
  "nbformat_minor": 0,
  "metadata": {
    "colab": {
      "name": "Copy of Copy of Untitled3.ipynb",
      "provenance": [],
      "collapsed_sections": [],
      "include_colab_link": true
    },
    "kernelspec": {
      "name": "python3",
      "display_name": "Python 3"
    },
    "language_info": {
      "name": "python"
    }
  },
  "cells": [
    {
      "cell_type": "markdown",
      "metadata": {
        "id": "view-in-github",
        "colab_type": "text"
      },
      "source": [
        "<a href=\"https://colab.research.google.com/github/kanak18-coder/FitBUZZ2/blob/master/PythonPrg1.ipynb\" target=\"_parent\"><img src=\"https://colab.research.google.com/assets/colab-badge.svg\" alt=\"Open In Colab\"/></a>"
      ]
    },
    {
      "cell_type": "code",
      "metadata": {
        "id": "daRIxQXC6GyO",
        "colab": {
          "base_uri": "https://localhost:8080/"
        },
        "outputId": "3f6d2642-c932-4cde-eb19-e815ef015d62"
      },
      "source": [
        "d1 ={'c1':'Red','c2':'Green','c3':None}\n",
        "print(\"Original Dictionary:\")\n",
        "print(d1)\n",
        "print(\"New Dictionary after dropping empty items:\")\n",
        "d1={key:value for (key, value) in d1.items() if value is not None}\n",
        "print(d1)"
      ],
      "execution_count": null,
      "outputs": [
        {
          "output_type": "stream",
          "name": "stdout",
          "text": [
            "Original Dictionary:\n",
            "{'c1': 'Red', 'c2': 'Green', 'c3': None}\n",
            "New Dictionary after dropping empty items:\n",
            "{'c1': 'Red', 'c2': 'Green'}\n"
          ]
        }
      ]
    },
    {
      "cell_type": "markdown",
      "metadata": {
        "id": "UsMT0I7Ac8pf"
      },
      "source": [
        "Write a Python program to drop empty Items from a given Dictionary. \n",
        "EXAMPLE:\n",
        "{'c1': 'Red', 'c2': 'Green', 'c3': None}\n",
        "New Dictionary after dropping empty items:\n",
        "{'c1': 'Red', 'c2': 'Green'}"
      ]
    },
    {
      "cell_type": "markdown",
      "metadata": {
        "id": "xuWkM59qc7AL"
      },
      "source": [
        ""
      ]
    }
  ]
}